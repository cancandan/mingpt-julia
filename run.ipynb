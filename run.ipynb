{
 "cells": [
  {
   "cell_type": "code",
   "execution_count": null,
   "metadata": {},
   "outputs": [],
   "source": [
    "include(\"minGPT.jl\")\n",
    "\n",
    "using Random\n",
    "Random.seed!(123)\n",
    "\n",
    "ndigit=2\n",
    "\n",
    "(trnx,trny),(tstx,tsty)=makeData(ndigit)    \n",
    "\n",
    "map(addOneForJulia, [trnx, trny, tstx, tsty])\n",
    "\n",
    "config = Dict(\"vocab_size\"=>10, \"n_embed\"=>128, \"attn_pdrop\"=>0.1f0, \"resid_pdrop\"=>0.1f0, \"embd_pdrop\"=>0.1f0, \"block_size\"=>6, \"n_layer\"=>2, \"n_head\"=>4,\n",
    "\"max_epochs\"=>110, \"batch_size\"=>512, \"learning_rate\"=>6f-4, \"lr_decay\"=>true, \"warmup_tokens\"=>1024, \"final_tokens\"=>50*size(trnx)[2]*(ndigit+1), \"betas\"=>(0.9f0, 0.95f0));\n",
    "\n",
    "model = mytraining(trnx, trny, tstx, tsty, config)"
   ]
  },
  {
   "cell_type": "code",
   "execution_count": null,
   "metadata": {},
   "outputs": [],
   "source": [
    "give_exam(model, trnx, trny, config)"
   ]
  },
  {
   "cell_type": "code",
   "execution_count": null,
   "metadata": {},
   "outputs": [],
   "source": [
    "give_exam(model, tstx, tsty, config)"
   ]
  },
  {
   "cell_type": "code",
   "execution_count": null,
   "metadata": {},
   "outputs": [],
   "source": []
  }
 ],
 "metadata": {
  "kernelspec": {
   "display_name": "Julia 1.7.1",
   "language": "julia",
   "name": "julia-1.7"
  },
  "language_info": {
   "file_extension": ".jl",
   "mimetype": "application/julia",
   "name": "julia",
   "version": "1.7.1"
  }
 },
 "nbformat": 4,
 "nbformat_minor": 2
}
